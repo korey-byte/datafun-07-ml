{
 "cells": [
  {
   "cell_type": "markdown",
   "metadata": {},
   "source": [
    "## Project 7\n",
    "# Korey Sansone\n",
    "## Project Repository\n",
    "### https://github.com/korey-byte/datafun-07-ml\n",
    "\n",
    "\n"
   ]
  },
  {
   "cell_type": "markdown",
   "metadata": {},
   "source": [
    "## Import Libraries"
   ]
  },
  {
   "cell_type": "code",
   "execution_count": 30,
   "metadata": {},
   "outputs": [],
   "source": [
    "import matplotlib.pyplot as plt\n",
    "import pandas as pd\n",
    "import seaborn as sns"
   ]
  },
  {
   "cell_type": "code",
   "execution_count": null,
   "metadata": {},
   "outputs": [],
   "source": [
    "# Load the Iris dataset into DataFrame\n",
    "df = sns.load_dataset('iris')\n",
    "\n",
    "# Inspect first rows of the DataFrame\n",
    "print(df.head())"
   ]
  },
  {
   "cell_type": "markdown",
   "metadata": {},
   "source": [
    "## Part 1 - Chart a Straight Line"
   ]
  },
  {
   "cell_type": "markdown",
   "metadata": {},
   "source": [
    "### Celsius vs Fahrenheit Data\n",
    "\n",
    "This section shows the relationship between Celsius and Fahrenheit using the equation:\n",
    "\n",
    "\\[\n",
    "F = \\frac{9}{5}C + 32\n",
    "\\]\n",
    "\n",
    "Where:\n",
    "- \\( m = \\frac{9}{5} \\) is the slope (rise over run).\n",
    "- \\( b = 32 \\) is the y-intercept (the point where the line crosses the y-axis)."
   ]
  },
  {
   "cell_type": "code",
   "execution_count": null,
   "metadata": {},
   "outputs": [],
   "source": [
    "# Import necessary libraries\n",
    "import pandas as pd\n",
    "import matplotlib.pyplot as plt\n",
    "\n",
    "# Define Celsius values (you can adjust the range)\n",
    "celsius = pd.Series(range(-30, 101, 10))  # From -30 to 100 in steps of 10\n",
    "\n",
    "# Calculate Fahrenheit using the equation F = (9/5)*C + 32\n",
    "fahrenheit = (9/5) * celsius + 32\n",
    "\n",
    "# Create a DataFrame for easy plotting\n",
    "temp_df = pd.DataFrame({\n",
    "    'Celsius': celsius,\n",
    "    'Fahrenheit': fahrenheit\n",
    "})\n",
    "\n",
    "# Plot the Celsius vs Fahrenheit\n",
    "plt.figure(figsize=(8, 5))\n",
    "plt.plot(temp_df['Celsius'], temp_df['Fahrenheit'], marker='o')\n",
    "\n",
    "# Set labels and title\n",
    "plt.title('Celsius vs Fahrenheit')\n",
    "plt.xlabel('Celsius')\n",
    "plt.ylabel('Fahrenheit')\n",
    "\n",
    "# Show the plot\n",
    "plt.grid(True)\n",
    "plt.show()"
   ]
  },
  {
   "cell_type": "markdown",
   "metadata": {},
   "source": [
    "## Part 2 - Prediction\n",
    "This project involves building a linear regression model to predict the average high temperature in NYC for January using historical data.\n"
   ]
  },
  {
   "cell_type": "code",
   "execution_count": 33,
   "metadata": {},
   "outputs": [],
   "source": [
    "# Add imports here\n",
    "import pandas as pd\n",
    "import seaborn as sns\n",
    "import matplotlib.pyplot as plt\n",
    "from scipy import stats\n",
    "\n",
    "# Display settings\n",
    "pd.set_option('display.precision', 2)"
   ]
  },
  {
   "cell_type": "markdown",
   "metadata": {},
   "source": [
    "### Section 1 - Data Acquisition"
   ]
  },
  {
   "cell_type": "code",
   "execution_count": 34,
   "metadata": {},
   "outputs": [],
   "source": [
    "# Load the data from a CSV file into a DataFrame\n",
    "nyc_df = pd.read_csv('/Users/koreysansone/Library/CloudStorage/OneDrive-nwmissouri.edu/Python Files/datafun-07-ml/IntroToPython/examples/ch10/ave_hi_nyc2_jan_1895-2018.csv')  # Replace with your file path"
   ]
  },
  {
   "cell_type": "markdown",
   "metadata": {},
   "source": [
    "### Section 2 - Data Inspection"
   ]
  },
  {
   "cell_type": "code",
   "execution_count": null,
   "metadata": {},
   "outputs": [],
   "source": [
    "# View the first and last few rows of the dataset\n",
    "nyc_df.head()\n",
    "nyc_df.tail()"
   ]
  },
  {
   "cell_type": "code",
   "execution_count": null,
   "metadata": {},
   "outputs": [],
   "source": [
    "# Check the existing columns to see how many there are and what they're named\n",
    "print(nyc_df.columns)"
   ]
  },
  {
   "cell_type": "code",
   "execution_count": 37,
   "metadata": {},
   "outputs": [],
   "source": [
    "# Drop the 'Anomaly' column since it's not needed for the linear regression\n",
    "nyc_df = nyc_df[['Date', 'Value']]  # Keep only 'Date' and 'Value'\n",
    "\n",
    "# Rename the remaining columns to 'Year' and 'Average_High_Temp'\n",
    "nyc_df.columns = ['Year', 'Average_High_Temp']\n",
    "\n",
    "# Convert 'Year' to datetime format\n",
    "nyc_df['Year'] = pd.to_datetime(nyc_df['Year'], format='%Y')\n",
    "\n",
    "# Verify the DataFrame after changes​⬤"
   ]
  },
  {
   "cell_type": "markdown",
   "metadata": {},
   "source": [
    "### Section 3 - Data Cleaning"
   ]
  },
  {
   "cell_type": "code",
   "execution_count": 38,
   "metadata": {},
   "outputs": [],
   "source": [
    "# Rename columns for clarity and clean up date series\n",
    "nyc_df.columns = ['Year', 'Average_High_Temp']\n",
    "nyc_df['Year'] = pd.to_datetime(nyc_df['Year'], format='%Y')"
   ]
  },
  {
   "cell_type": "markdown",
   "metadata": {},
   "source": [
    "### Section 4 - Descriptive Statistics"
   ]
  },
  {
   "cell_type": "code",
   "execution_count": null,
   "metadata": {},
   "outputs": [],
   "source": [
    "# Display basic descriptive statistics\n",
    "nyc_df.describe()"
   ]
  },
  {
   "cell_type": "markdown",
   "metadata": {},
   "source": [
    "### Section 5 - Build the Model"
   ]
  },
  {
   "cell_type": "code",
   "execution_count": null,
   "metadata": {},
   "outputs": [],
   "source": [
    "# Use linregress from scipy.stats to calculate slope and intercept\n",
    "slope, intercept, r_value, p_value, std_err = stats.linregress(nyc_df['Year'].dt.year, nyc_df['Average_High_Temp'])\n",
    "\n",
    "# Print model parameters\n",
    "print(f\"Slope: {slope:.2f}, Intercept: {intercept:.2f}, R-squared: {r_value**2:.2f}\")"
   ]
  },
  {
   "cell_type": "markdown",
   "metadata": {},
   "source": [
    "### Section 6 - Predict"
   ]
  },
  {
   "cell_type": "code",
   "execution_count": null,
   "metadata": {},
   "outputs": [],
   "source": [
    "# Predict the average high temperature for January 2024\n",
    "year = 2024\n",
    "predicted_temp_2024 = slope * year + intercept\n",
    "print(f\"Predicted Average High Temperature for January 2024: {predicted_temp_2024:.2f}\")"
   ]
  },
  {
   "cell_type": "markdown",
   "metadata": {},
   "source": [
    "### Section 7 - Visualizations"
   ]
  },
  {
   "cell_type": "code",
   "execution_count": null,
   "metadata": {},
   "outputs": [],
   "source": [
    "# Plot a scatter plot with a best fit line\n",
    "plt.figure(figsize=(10, 6))\n",
    "sns.regplot(x=nyc_df['Year'].dt.year, y=nyc_df['Average_High_Temp'], line_kws={\"color\": \"red\"})\n",
    "\n",
    "# Set plot labels and title\n",
    "plt.title('NYC January Average High Temperature Over Time')\n",
    "plt.xlabel('Year')\n",
    "plt.ylabel('Average High Temperature (°F)')\n",
    "plt.grid(True)\n",
    "plt.show()"
   ]
  },
  {
   "cell_type": "markdown",
   "metadata": {},
   "source": [
    "## Part 3 - Prediction"
   ]
  },
  {
   "cell_type": "code",
   "execution_count": null,
   "metadata": {},
   "outputs": [],
   "source": [
    "pip install scikit-learn"
   ]
  },
  {
   "cell_type": "code",
   "execution_count": null,
   "metadata": {},
   "outputs": [],
   "source": [
    "pip show scikit-learn"
   ]
  },
  {
   "cell_type": "code",
   "execution_count": null,
   "metadata": {},
   "outputs": [],
   "source": [
    "pip install scikit-learn pandas"
   ]
  },
  {
   "cell_type": "code",
   "execution_count": null,
   "metadata": {},
   "outputs": [],
   "source": [
    "pip show scikit-learn"
   ]
  },
  {
   "cell_type": "code",
   "execution_count": null,
   "metadata": {},
   "outputs": [],
   "source": [
    "pip show pandas"
   ]
  },
  {
   "cell_type": "code",
   "execution_count": null,
   "metadata": {},
   "outputs": [],
   "source": [
    "import sklearn\n",
    "print(sklearn.__version__)"
   ]
  },
  {
   "cell_type": "code",
   "execution_count": 49,
   "metadata": {},
   "outputs": [],
   "source": [
    "# Add imports for data handling, model building, and visualizations\n",
    "import pandas as pd\n",
    "import numpy as np\n",
    "from sklearn.model_selection import train_test_split\n",
    "from sklearn.linear_model import LinearRegression\n",
    "import seaborn as sns\n",
    "import matplotlib.pyplot as plt"
   ]
  },
  {
   "cell_type": "code",
   "execution_count": 50,
   "metadata": {},
   "outputs": [],
   "source": [
    "import pandas as pd\n",
    "import numpy as np\n",
    "from sklearn.model_selection import train_test_split\n",
    "from sklearn.linear_model import LinearRegression\n",
    "import seaborn as sns\n",
    "import matplotlib.pyplot as plt"
   ]
  },
  {
   "cell_type": "markdown",
   "metadata": {},
   "source": [
    "### Section 1 - Build the Model"
   ]
  },
  {
   "cell_type": "code",
   "execution_count": null,
   "metadata": {},
   "outputs": [],
   "source": [
    "# Print the columns in the DataFrame\n",
    "print(\"Columns in the DataFrame:\", df.columns)"
   ]
  },
  {
   "cell_type": "code",
   "execution_count": null,
   "metadata": {},
   "outputs": [],
   "source": [
    "# Assuming you have already loaded the DataFrame\n",
    "import pandas as pd\n",
    "import numpy as np\n",
    "from sklearn.model_selection import train_test_split\n",
    "from sklearn.linear_model import LinearRegression\n",
    "\n",
    "# Load the data into df\n",
    "df = pd.read_csv('/Users/koreysansone/Library/CloudStorage/OneDrive-nwmissouri.edu/Python Files/datafun-07-ml/IntroToPython/examples/ch15/ave_hi_nyc_jan_1895-2018.csv')\n",
    "\n",
    "# Check and clean the column names\n",
    "print(\"Original columns in the DataFrame:\", df.columns)\n",
    "df.columns = df.columns.str.strip()  # Clean whitespace\n",
    "print(\"Cleaned columns:\", df.columns)\n",
    "\n",
    "# Check for required columns\n",
    "if 'Year' in df.columns and 'Average_High_Temp' in df.columns:\n",
    "    # Define X and y for the regression\n",
    "    X = df[['Year']]\n",
    "    y = df['Average_High_Temp']\n",
    "\n",
    "    # Split the data into training and testing sets (80% training, 20% testing)\n",
    "    X_train, X_test, y_train, y_test = train_test_split(X, y, test_size=0.2, random_state=42)\n",
    "\n",
    "    # Check the shape of each set\n",
    "    print(\"Training set shape:\", X_train.shape)\n",
    "    print(\"Testing set shape:\", X_test.shape)\n",
    "\n",
    "    # Create the Linear Regression model and fit it on the training data\n",
    "    model = LinearRegression()\n",
    "    model.fit(X_train, y_train)\n",
    "\n",
    "    # Get the coefficients and intercept\n",
    "    m = model.coef_[0]\n",
    "    b = model.intercept_\n",
    "    print(f\"Slope (m): {m}\")\n",
    "    print(f\"Intercept (b): {b}\")\n",
    "else:\n",
    "    print(\"Error: Required columns are not present in the DataFrame.\")\n",
    "    print(\"Available columns:\", df.columns)"
   ]
  },
  {
   "cell_type": "code",
   "execution_count": null,
   "metadata": {},
   "outputs": [],
   "source": [
    "# Display the first few rows of the DataFrame\n",
    "print(df.head())"
   ]
  },
  {
   "cell_type": "markdown",
   "metadata": {},
   "source": [
    "### Section 2 - Test the Model"
   ]
  },
  {
   "cell_type": "code",
   "execution_count": 54,
   "metadata": {},
   "outputs": [],
   "source": [
    "df = pd.read_csv('/Users/koreysansone/Library/CloudStorage/OneDrive-nwmissouri.edu/Python Files/datafun-07-ml/IntroToPython/examples/ch15/ave_hi_nyc_jan_1895-2018.csv')"
   ]
  },
  {
   "cell_type": "code",
   "execution_count": null,
   "metadata": {},
   "outputs": [],
   "source": [
    "# Step 1: Import necessary libraries\n",
    "import pandas as pd\n",
    "import numpy as np\n",
    "from sklearn.model_selection import train_test_split\n",
    "from sklearn.linear_model import LinearRegression\n",
    "from sklearn.metrics import mean_squared_error, r2_score\n",
    "\n",
    "# Step 2: Load the data into df\n",
    "df = pd.read_csv('/Users/koreysansone/Library/CloudStorage/OneDrive-nwmissouri.edu/Python Files/datafun-07-ml/IntroToPython/examples/ch15/ave_hi_nyc_jan_1895-2018.csv')\n",
    "\n",
    "# Step 3: Clean column names by stripping whitespace\n",
    "df.columns = df.columns.str.strip()\n",
    "\n",
    "# Step 4: Check the DataFrame to ensure it has the correct columns\n",
    "print(df.head())  # Optional: Check the first few rows of the DataFrame\n",
    "\n",
    "# Step 4.5: Extract the year from the 'Date' column\n",
    "df['Year'] = df['Date'].astype(str).str[:4].astype(int)  # Extract year from Date column\n",
    "\n",
    "# Step 5: Define X and y for the regression\n",
    "X = df[['Year']]  # Now 'Year' is a valid column\n",
    "y = df['Value']   # Change this to 'Value' or any appropriate column for the temperature\n",
    "\n",
    "# Step 6: Split the data into training and testing sets\n",
    "X_train, X_test, y_train, y_test = train_test_split(X, y, test_size=0.2, random_state=42)\n",
    "\n",
    "# Step 7: Create and fit the Linear Regression model\n",
    "model = LinearRegression()\n",
    "model.fit(X_train, y_train)\n",
    "\n",
    "# Step 8: Test the model by predicting on the testing set\n",
    "y_pred = model.predict(X_test)\n",
    "\n",
    "# Step 9: Evaluate the model by calculating the Mean Squared Error (MSE) and R^2 score\n",
    "mse = mean_squared_error(y_test, y_pred)\n",
    "r2 = r2_score(y_test, y_pred)\n",
    "\n",
    "# Step 10: Print the evaluation metrics\n",
    "print(f\"Mean Squared Error: {mse}\")\n",
    "print(f\"R^2 Score: {r2}\")"
   ]
  },
  {
   "cell_type": "code",
   "execution_count": null,
   "metadata": {},
   "outputs": [],
   "source": [
    "# Test the model by predicting on the testing set\n",
    "y_pred = model.predict(X_test)\n",
    "\n",
    "# Evaluate the model by calculating the Mean Squared Error (MSE) and R^2 score\n",
    "from sklearn.metrics import mean_squared_error, r2_score\n",
    "\n",
    "mse = mean_squared_error(y_test, y_pred)\n",
    "r2 = r2_score(y_test, y_pred)\n",
    "\n",
    "print(f\"Mean Squared Error: {mse}\")\n",
    "print(f\"R^2 Score: {r2}\")"
   ]
  },
  {
   "cell_type": "markdown",
   "metadata": {},
   "source": [
    "### Section 3 - Predict"
   ]
  },
  {
   "cell_type": "code",
   "execution_count": null,
   "metadata": {},
   "outputs": [],
   "source": [
    "# Predict the average high temp in January for the year 2024\n",
    "year_2024 = pd.DataFrame([[2024]], columns=['Year'])\n",
    "predicted_temp_2024 = model.predict(year_2024)\n",
    "\n",
    "print(f\"Predicted average high temperature in January 2024: {predicted_temp_2024[0]:.2f}°F\")"
   ]
  },
  {
   "cell_type": "markdown",
   "metadata": {},
   "source": [
    "### Section 4 - Visualizations"
   ]
  },
  {
   "cell_type": "code",
   "execution_count": null,
   "metadata": {},
   "outputs": [],
   "source": [
    "import matplotlib.pyplot as plt\n",
    "import seaborn as sns\n",
    "\n",
    "# Plot the data points and the best-fit line\n",
    "plt.figure(figsize=(10, 6))\n",
    "\n",
    "# Scatter plot of the original data\n",
    "sns.scatterplot(x=df['Year'], y=df['Value'], label='Original Data', color='blue')  # Changed 'Average_High_Temp' to 'Value'\n",
    "\n",
    "# Plot the best-fit line using the model\n",
    "sns.lineplot(x=df['Year'], y=model.predict(df[['Year']]), label='Best Fit Line', color='red')\n",
    "\n",
    "# Customize the plot\n",
    "plt.title('Average High Temperature in January (NYC)')\n",
    "plt.xlabel('Year')\n",
    "plt.ylabel('Average High Temp (°F)')\n",
    "plt.grid(True)\n",
    "plt.legend()\n",
    "\n",
    "# Show the plot\n",
    "plt.show()"
   ]
  },
  {
   "cell_type": "markdown",
   "metadata": {},
   "source": [
    "### Section 5 - Error Handling"
   ]
  },
  {
   "cell_type": "markdown",
   "metadata": {},
   "source": [
    "If you encounter any issues or warnings while running the notebook, be sure to:\n",
    "\n",
    "\t1.\tRead the error message carefully: Most warnings and errors will provide insight into what’s wrong.\n",
    "\t2.\tCheck data integrity: Ensure the data is clean and the correct shape before feeding it into the model.\n",
    "\t3.\tTry rerunning cells: Sometimes, rerunning the notebook cells helps resolve order-related issues.\n"
   ]
  }
 ],
 "metadata": {
  "kernelspec": {
   "display_name": "Python 3",
   "language": "python",
   "name": "python3"
  },
  "language_info": {
   "codemirror_mode": {
    "name": "ipython",
    "version": 3
   },
   "file_extension": ".py",
   "mimetype": "text/x-python",
   "name": "python",
   "nbconvert_exporter": "python",
   "pygments_lexer": "ipython3",
   "version": "3.12.5"
  }
 },
 "nbformat": 4,
 "nbformat_minor": 2
}
